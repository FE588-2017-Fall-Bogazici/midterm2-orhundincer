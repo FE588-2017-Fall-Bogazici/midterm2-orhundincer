{
 "cells": [
  {
   "cell_type": "code",
   "execution_count": 23,
   "metadata": {},
   "outputs": [
    {
     "name": "stdout",
     "output_type": "stream",
     "text": [
      "0.2 sin(3z) -2 cos(2z) -2 cos(z) +7 \n"
     ]
    }
   ],
   "source": [
    "#Final Assignment\n",
    "#Question 1\n",
    "\n",
    "import numpy as np\n",
    "%matplotlib inline\n",
    "import matplotlib.pyplot as plt\n",
    "\n",
    "class polynomial(object):\n",
    "    def __init__(self, c, t, v='x'):\n",
    "        self.coeff = c\n",
    "        self.tri=t\n",
    "        self.v = v\n",
    "    def __repr__(self):\n",
    "        coeff = self.coeff\n",
    "        v = self.v\n",
    "        tri=self.tri\n",
    "        s = ''\n",
    "        D = len(coeff)\n",
    "        \n",
    "        first = True\n",
    "        \n",
    "        for i in range(D):\n",
    "            pw = D-i-1\n",
    "            pre = '+' if coeff[i]>0 else ''\n",
    "            if first:\n",
    "                if pre=='+':\n",
    "                    pre = ''\n",
    "                first = False\n",
    "            \n",
    "            if pw == 0:\n",
    "                vname = ''\n",
    "                tname = ''\n",
    "            elif pw == 1:\n",
    "                vname = v\n",
    "                tx='sin' if tri[i]=='s' else 'cos'\n",
    "                tname =tx+ '(' + vname + ')'+' '\n",
    "            else:\n",
    "                vname = str(pw)+v \n",
    "                tx='sin' if tri[i]=='s' else 'cos'\n",
    "                tname =tx+ '(' + vname + ')'+' '\n",
    "            if coeff[i] != 0:\n",
    "                s += pre+str(coeff[i])+ ' '+ tname\n",
    "                \n",
    "        return s\n",
    "#in order this code to work len(c)=len(t)+1 condition must be satisfied    \n",
    "p = polynomial([0.2, -2, -2, 7],['s', 'c', 'c'], 'z')\n",
    "print(p)\n"
   ]
  },
  {
   "cell_type": "code",
   "execution_count": null,
   "metadata": {
    "collapsed": true
   },
   "outputs": [],
   "source": [
    "#Final Assignment\n",
    "#Question 2\n",
    "\n",
    "class myobj(object):\n",
    "    def __init__(self, name):\n",
    "        self.name=name\n",
    "        self.dep=[]\n",
    "    def add_dependency(self, dependency):\n",
    "        self.dep.append(dependency)\n",
    "    \n",
    "    \n",
    "    def built()\n",
    "        \n",
    "        \n",
    "#I could not complete this task, but I want to know the answer. Could you please share it with us?      "
   ]
  }
 ],
 "metadata": {
  "kernelspec": {
   "display_name": "Python 3",
   "language": "python",
   "name": "python3"
  },
  "language_info": {
   "codemirror_mode": {
    "name": "ipython",
    "version": 3
   },
   "file_extension": ".py",
   "mimetype": "text/x-python",
   "name": "python",
   "nbconvert_exporter": "python",
   "pygments_lexer": "ipython3",
   "version": "3.6.1"
  }
 },
 "nbformat": 4,
 "nbformat_minor": 2
}
